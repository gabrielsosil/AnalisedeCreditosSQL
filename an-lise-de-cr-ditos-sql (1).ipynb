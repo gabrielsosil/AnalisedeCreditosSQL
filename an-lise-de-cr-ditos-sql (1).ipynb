{
 "cells": [
  {
   "cell_type": "code",
   "execution_count": 1,
   "id": "04b2dc8a",
   "metadata": {
    "_cell_guid": "b1076dfc-b9ad-4769-8c92-a6c4dae69d19",
    "_uuid": "8f2839f25d086af736a60e9eeb907d3b93b6e0e5",
    "execution": {
     "iopub.execute_input": "2023-04-22T13:43:32.419048Z",
     "iopub.status.busy": "2023-04-22T13:43:32.418348Z",
     "iopub.status.idle": "2023-04-22T13:43:32.437645Z",
     "shell.execute_reply": "2023-04-22T13:43:32.436010Z"
    },
    "papermill": {
     "duration": 0.028004,
     "end_time": "2023-04-22T13:43:32.440751",
     "exception": false,
     "start_time": "2023-04-22T13:43:32.412747",
     "status": "completed"
    },
    "tags": []
   },
   "outputs": [
    {
     "name": "stdout",
     "output_type": "stream",
     "text": [
      "/kaggle/input/dataset-crdito/credito8.csv\n"
     ]
    }
   ],
   "source": [
    "# This Python 3 environment comes with many helpful analytics libraries installed\n",
    "# It is defined by the kaggle/python Docker image: https://github.com/kaggle/docker-python\n",
    "# For example, here's several helpful packages to load\n",
    "\n",
    "import numpy as np # linear algebra\n",
    "import pandas as pd # data processing, CSV file I/O (e.g. pd.read_csv)\n",
    "\n",
    "# Input data files are available in the read-only \"../input/\" directory\n",
    "# For example, running this (by clicking run or pressing Shift+Enter) will list all files under the input directory\n",
    "\n",
    "import os\n",
    "for dirname, _, filenames in os.walk('/kaggle/input'):\n",
    "    for filename in filenames:\n",
    "        print(os.path.join(dirname, filename))\n",
    "\n",
    "# You can write up to 20GB to the current directory (/kaggle/working/) that gets preserved as output when you create a version using \"Save & Run All\" \n",
    "# You can also write temporary files to /kaggle/temp/, but they won't be saved outside of the current session"
   ]
  },
  {
   "cell_type": "markdown",
   "id": "ad807fb7",
   "metadata": {
    "papermill": {
     "duration": 0.002344,
     "end_time": "2023-04-22T13:43:32.445970",
     "exception": false,
     "start_time": "2023-04-22T13:43:32.443626",
     "status": "completed"
    },
    "tags": []
   },
   "source": [
    "**Esta análise realizada como projeto final do curso de *SQL para análise de dados* da EBAC.**\n",
    "# O Objetivo: #\n",
    "\n",
    "> Esse projeto foi buscou mostrar aplicações práticas de querys em SQL para realizar análises a respeito de uma base de dados com informações de clientes de um banco."
   ]
  },
  {
   "cell_type": "markdown",
   "id": "dbffa5b5",
   "metadata": {
    "papermill": {
     "duration": 0.002166,
     "end_time": "2023-04-22T13:43:32.450718",
     "exception": false,
     "start_time": "2023-04-22T13:43:32.448552",
     "status": "completed"
    },
    "tags": []
   },
   "source": [
    "# Os Dados:\n",
    "> As informações disponibilizadas em documento csv a respeito dos clientes foram:\n",
    "* idade = idade do cliente\n",
    "* sexo = sexo do cliente (F ou M)\n",
    "* dependentes = número de dependentes do cliente\n",
    "* escolaridade = nível de escolaridade do clientes\n",
    "* salario_anual = faixa salarial do cliente\n",
    "* tipo_cartao = tipo de cartao do cliente\n",
    "* qtd_produtos = quantidade de produtos comprados nos últimos 12 meses\n",
    "* iteracoes_12m = quantidade de iterações/transacoes nos ultimos 12 meses\n",
    "* meses_inativo_12m = quantidade de meses que o cliente ficou inativo\n",
    "* limite_credito = limite de credito do cliente\n",
    "* valor_transacoes_12m = valor das transações dos ultimos 12 meses\n",
    "* qtd_transacoes_12m = quantidade de transacoes dos ultimos 12 meses\n",
    "\n",
    "A base está disponivel em: [dataset_crédito](http:///kaggle/input/dataset-crdito)"
   ]
  },
  {
   "cell_type": "markdown",
   "id": "8f56dab6",
   "metadata": {
    "papermill": {
     "duration": 0.00212,
     "end_time": "2023-04-22T13:43:32.455172",
     "exception": false,
     "start_time": "2023-04-22T13:43:32.453052",
     "status": "completed"
    },
    "tags": []
   },
   "source": [
    "# A Metodologia:\n",
    "> Para analisar as informações presentes nos dados, inicicalmente o documento .csv foi adicionado em um bucket no sistema de armazenamento S3 e em seguida analisado usando o sistema de processamento Athena, ambas ferramentas disponiveis no pacote AWS.\n",
    "\n",
    "> Em geral, inicialmente foi feita uma análise exploratória para compreensão dos dados disponíveis, seguida de uma análise mais crítica dos dados comparando a prevalência de dados e comparando fatores relevantes entre si. Por fim, as conclusões a respeito da base de dados foram elencadas.\n"
   ]
  },
  {
   "cell_type": "markdown",
   "id": "b5b7cf70",
   "metadata": {
    "papermill": {
     "duration": 0.00217,
     "end_time": "2023-04-22T13:43:32.459655",
     "exception": false,
     "start_time": "2023-04-22T13:43:32.457485",
     "status": "completed"
    },
    "tags": []
   },
   "source": [
    "## Análise exploratória:\n",
    "Em primeiro lugar, foi gerada uma prévia com 10 linhas dos dados alimentados no S3:\n",
    ">![tabela](https://github.com/gabrielsosil/sqlebaca/blob/main/Captura%20de%20tela%202023-04-21%20142925.png?raw=true)\n",
    "**query:** SELECT * FROM credito limit 10;\n",
    "\n",
    "Para um melhor entendimento dos tipos de dados e quais análises são possiveis de serem feitas, se buscou qual o tipo de dado em cada coluna:\n",
    "\n",
    ">![descricao](https://github.com/gabrielsosil/sqlebaca/blob/main/datatype.png?raw=true)\n",
    "\n",
    "**query:** DESCRIBE credito\n",
    "\n",
    "Além da quantidade de clientes que seriam analisados:\n",
    ">![quant](https://github.com/gabrielsosil/sqlebaca/blob/main/dataquant.png?raw=true)\n",
    "\n",
    "**query:** SELECT COUNT(* ) FROM credito\n",
    "\n",
    "Para uma análise mais granular, foi feita uma análise dos dados tipo *string* para entender quais as ocorrências em cada coluna:\n",
    ">![escolaridade](https://github.com/gabrielsosil/sqlebaca/blob/main/escolaridade.png?raw=true/)\n",
    ">![civil](https://github.com/gabrielsosil/sqlebaca/blob/main/estadocivil.png?raw=true)\n",
    ">![salario](https://github.com/gabrielsosil/sqlebaca/blob/main/salario_anua.png?raw=true)\n",
    ">![tipocart](https://github.com/gabrielsosil/sqlebaca/blob/main/tipo_cartao.png?raw=true)\n",
    "\n",
    ">Para as informações acima, foram usadas **querys**: SELECT DISTINCT (coluna) FROM credito , substituindo a coluna pelo dado desejado.\n",
    "\n",
    ">Nota-se também a presença de *'na'* em diferentes colunas. Estas são devidas a preenchimento inadequado ou não realizado. Tais dados deverão ser tratados em análises mais complexas.\n"
   ]
  },
  {
   "cell_type": "markdown",
   "id": "10898a0b",
   "metadata": {
    "papermill": {
     "duration": 0.002095,
     "end_time": "2023-04-22T13:43:32.464079",
     "exception": false,
     "start_time": "2023-04-22T13:43:32.461984",
     "status": "completed"
    },
    "tags": []
   },
   "source": [
    "## Análise dos dados\n",
    "\n",
    "> **Uma boa maneira de começar** a entender os dados é buscar a frequência das categorias nas diferentes colunas. Nesse caso é possivel aprender sobre o perfil dos clientes contemplados. Esses dados são essenciais para direcionar campanhas de marketing e oferecer planos especiais, por exemplo. Seguem exemplos desse tipo de análise:\n",
    "\n",
    "![sexo](https://github.com/gabrielsosil/sqlebaca/blob/main/sexo.png?raw=true)\n",
    "![faixa](https://github.com/gabrielsosil/sqlebaca/blob/main/faixa%20salarial.png?raw=true)\n",
    "![Escolaridade](https://github.com/gabrielsosil/sqlebaca/blob/main/escolaridade.png?raw=true)\n",
    "\n",
    ">Para as informações acima, foram usadas **querys**: SELECT COUNT (*), (categoria) FROM credito GROUP BY (gategoria) , substituindo 'gategoria' pelo dado desejado.\n",
    "\n",
    "\n",
    "> **Além da frequência de dados,** também é possivel selecionar dados baseado na média de categorias diferentes, para estipular o comportamento médio frente a alguma situação:\n",
    "\n",
    "![sexogasto](https://github.com/gabrielsosil/sqlebaca/blob/main/gastosexo.png?raw=true)\n",
    "![tipocartaogasto](https://github.com/gabrielsosil/sqlebaca/blob/main/tipocartaogasto.png?raw=true)\n",
    "\n",
    ">Para as informações acima, foram usadas **querys**: SELCT AVG(valor_transacoes_12m) AS media_valor_gasto, (gategoria) FROM credito GROUP BY (categoria) , substituindo 'categoria' pelo dado buscado.\n",
    "\n",
    "> **Também é possível, partindo de uma caracteristica,** determinar outros fatores que estão correlacionados à ela, como por exemplo para determinar o perfil dos clientes com os maiores e menores limites:\n",
    "\n",
    ">![limitealto](https://github.com/gabrielsosil/sqlebaca/blob/main/perfillimitealto.png?raw=true)\n",
    "\n",
    ">**query**: select max(limite_credito) as limite_credito, escolaridade, tipo_cartao, sexo from credito where escolaridade != 'na' and tipo_cartao != 'na' group by escolaridade, tipo_cartao, sexo order by limite_credito desc limit 10 \n",
    "\n",
    ">![limitebaixo](https://github.com/gabrielsosil/sqlebaca/blob/main/limitebaixo.png?raw=true)\n",
    "\n",
    ">**query**: select max(limite_credito) as limite_credito, escolaridade, tipo_cartao, sexo from credito where escolaridade != 'na' and tipo_cartao != 'na' group by escolaridade, tipo_cartao, sexo order by limite_credito asc limit 10 \n",
    "\n",
    "> Por fim, as análises em si também podem gerar mais perguntas, e permitem a volta para criação de mais querys:\n",
    "\n",
    "![limitexsexo](https://github.com/gabrielsosil/sqlebaca/blob/main/limitexsexo.png?raw=true)\n",
    "> **query**:SELECT AVG(limite_credito) AS media_limite, sexo FROM credito GROUP BY sexo permitiu a análise da média dos limites dos cartões separados por sexo."
   ]
  },
  {
   "cell_type": "markdown",
   "id": "c5afeb4d",
   "metadata": {
    "papermill": {
     "duration": 0.002103,
     "end_time": "2023-04-22T13:43:32.468494",
     "exception": false,
     "start_time": "2023-04-22T13:43:32.466391",
     "status": "completed"
    },
    "tags": []
   },
   "source": [
    "# Conclusões: #\n",
    "\n",
    "* A maior parte dos clientes é do sexo masculino, possui renda até 40K e nivel de educação até o Mestrado.\n",
    "* Os sexo não parece influenciar no gasto.\n",
    "* Apesar disso, os clientes masculinos tem maiores limites e os clientes femininos tem menores limites.\n",
    "\n",
    "**Uma análise mais completa e granular dos dados pode ter a capacidade de explicar essa diferença de limites, assim como a constatação dessas diferenças pode ser um motivo para as empresas perceberem a necessidade de mudança no tratamento das clientes femininas!**\n",
    "\n"
   ]
  }
 ],
 "metadata": {
  "kernelspec": {
   "display_name": "Python 3",
   "language": "python",
   "name": "python3"
  },
  "language_info": {
   "codemirror_mode": {
    "name": "ipython",
    "version": 3
   },
   "file_extension": ".py",
   "mimetype": "text/x-python",
   "name": "python",
   "nbconvert_exporter": "python",
   "pygments_lexer": "ipython3",
   "version": "3.7.12"
  },
  "papermill": {
   "default_parameters": {},
   "duration": 11.783769,
   "end_time": "2023-04-22T13:43:33.194779",
   "environment_variables": {},
   "exception": null,
   "input_path": "__notebook__.ipynb",
   "output_path": "__notebook__.ipynb",
   "parameters": {},
   "start_time": "2023-04-22T13:43:21.411010",
   "version": "2.4.0"
  }
 },
 "nbformat": 4,
 "nbformat_minor": 5
}
